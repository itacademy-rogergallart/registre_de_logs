{
  "nbformat": 4,
  "nbformat_minor": 0,
  "metadata": {
    "colab": {
      "name": "tasca7_registre_de_logs.ipynb",
      "provenance": [],
      "toc_visible": true,
      "mount_file_id": "1OgRncoroDSHMR5axBrbwW5G9UY7UJGWW",
      "authorship_tag": "ABX9TyNvmXd86PWcSUX2RcanpUhV"
    },
    "kernelspec": {
      "name": "python3",
      "display_name": "Python 3"
    },
    "language_info": {
      "name": "python"
    }
  },
  "cells": [
    {
      "cell_type": "markdown",
      "metadata": {
        "id": "__jdTjU1Ym-i"
      },
      "source": [
        "# Tasca 7 : Transformació Registre Log amb Regular expressions\n",
        "\n",
        "Roger Gallart - 30 abril 2021\n",
        "\n",
        "L'anàlisi de registres és una funció important per al control i l'alerta, el compliment de les polítiques de seguretat, l'auditoria i el compliment normatiu, la resposta a incidents de seguretat i fins i tot les investigacions forenses. En analitzar les dades de registre, les empreses poden identificar més fàcilment les possibles amenaces i altres problemes, trobar la causa arrel i iniciar una resposta ràpida per mitigar els riscos."
      ]
    },
    {
      "cell_type": "markdown",
      "metadata": {
        "id": "5WBD-iZcYm7Z"
      },
      "source": [
        "## Nivell 1\n",
        "L'analista ha d'assegurar-se que els registres consisteixen en una gamma completa de missatges i s'interpreten segons el context. Els elements de registre han de normalitzar-se, utilitzant els mateixos termes o terminologia, per evitar confusions i proporcionar cohesió.\n",
        "\n",
        "Com Científic de Dades se t'ha proporcionat accés als registres-Logs on queda registrada l'activitat de totes les visites a realitzades a la pàgina web de l'agència de viatges \"akumenius.com\"."
      ]
    },
    {
      "cell_type": "markdown",
      "metadata": {
        "id": "kvPva2IFYm0N"
      },
      "source": [
        "### Exercici 1\n",
        "Normalitza, identifica i enumera cada un dels atributs / variables de l'estructura de l'arxiu \"Web_access_log-akumenius.com\" que trobaràs al repositori de GitHub \"Data-sources\"."
      ]
    },
    {
      "cell_type": "code",
      "metadata": {
        "id": "iefmbkkCxfOf"
      },
      "source": [
        "import pandas as pd\n",
        "import numpy as np\n",
        "import re"
      ],
      "execution_count": 1,
      "outputs": []
    },
    {
      "cell_type": "code",
      "metadata": {
        "id": "r2wbUqpBxGHP",
        "colab": {
          "base_uri": "https://localhost:8080/"
        },
        "outputId": "a6a93ab1-c58a-4f5c-eda3-501c0a150859"
      },
      "source": [
        "# Descomprimim el fitxer .7z a Google Colab\n",
        "!apt-get install p7zip-full\n",
        "!7z e /content/drive/MyDrive/ITAcademy/Data-Science-main/Data-sources/Web_access_log-akumenius.com.txt.7z"
      ],
      "execution_count": 2,
      "outputs": [
        {
          "output_type": "stream",
          "text": [
            "Reading package lists... Done\n",
            "Building dependency tree       \n",
            "Reading state information... Done\n",
            "p7zip-full is already the newest version (16.02+dfsg-6).\n",
            "The following package was automatically installed and is no longer required:\n",
            "  libnvidia-common-460\n",
            "Use 'apt autoremove' to remove it.\n",
            "0 upgraded, 0 newly installed, 0 to remove and 34 not upgraded.\n",
            "\n",
            "7-Zip [64] 16.02 : Copyright (c) 1999-2016 Igor Pavlov : 2016-05-21\n",
            "p7zip Version 16.02 (locale=en_US.UTF-8,Utf16=on,HugeFiles=on,64 bits,2 CPUs Intel(R) Xeon(R) CPU @ 2.20GHz (406F0),ASM,AES-NI)\n",
            "\n",
            "Scanning the drive for archives:\n",
            "  0M Scan /content/drive/MyDrive/ITAcademy/Data-Science-main/Data-sources/\b\b\b\b\b\b\b\b\b\b\b\b\b\b\b\b\b\b\b\b\b\b\b\b\b\b\b\b\b\b\b\b\b\b\b\b\b\b\b\b\b\b\b\b\b\b\b\b\b\b\b\b\b\b\b\b\b\b\b\b\b\b\b\b\b\b\b\b\b\b\b\b\b\b                                                                          \b\b\b\b\b\b\b\b\b\b\b\b\b\b\b\b\b\b\b\b\b\b\b\b\b\b\b\b\b\b\b\b\b\b\b\b\b\b\b\b\b\b\b\b\b\b\b\b\b\b\b\b\b\b\b\b\b\b\b\b\b\b\b\b\b\b\b\b\b\b\b\b\b\b1 file, 2960037 bytes (2891 KiB)\n",
            "\n",
            "Extracting archive: /content/drive/MyDrive/ITAcademy/Data-Science-main/Data-sources/Web_access_log-akumenius.com.txt.7z\n",
            "--\n",
            "Path = /content/drive/MyDrive/ITAcademy/Data-Science-main/Data-sources/Web_access_log-akumenius.com.txt.7z\n",
            "Type = 7z\n",
            "Physical Size = 2960037\n",
            "Headers Size = 170\n",
            "Method = LZMA2:24\n",
            "Solid = -\n",
            "Blocks = 1\n",
            "\n",
            "  0%\b\b\b\b    \b\b\b\b 55% - Web_access_log-akumenius.com.txt\b\b\b\b\b\b\b\b\b\b\b\b\b\b\b\b\b\b\b\b\b\b\b\b\b\b\b\b\b\b\b\b\b\b\b\b\b\b\b                                       \b\b\b\b\b\b\b\b\b\b\b\b\b\b\b\b\b\b\b\b\b\b\b\b\b\b\b\b\b\b\b\b\b\b\b\b\b\b\bEverything is Ok\n",
            "\n",
            "Size:       75482932\n",
            "Compressed: 2960037\n"
          ],
          "name": "stdout"
        }
      ]
    },
    {
      "cell_type": "code",
      "metadata": {
        "id": "6kcpdadBOiVQ"
      },
      "source": [
        "# Importem el fitxer de log a un DataFrame\n",
        "\n",
        "# Fitxer de log\n",
        "fname = \"/content/Web_access_log-akumenius.com.txt\"\n",
        "\n",
        "# Patró RegEx per llegir el fitxer de log\n",
        "# L'he creat manualment amb la pàgina www.regex101.com\n",
        "pattern = r'(\\S+)\\s([0-9.]+|-)\\s(.+)\\s(.+)\\s\\[(.+)\\]\\s\\\"(.+)\\\"\\s(\\d+|-)\\s(\\d+|-)\\s\\\"(.+)\\\"\\s\\\"(.+)\\\"\\sVLOG=(.+)'\n",
        "\n",
        "# Llegim el fitxer.\n",
        "# Comentaris:\n",
        "# - utilitzo 'na_values' per substituir els \"-\" per NaN\n",
        "# - per un motiu que desconec, al parsejar el fitxer genera dues columnes \n",
        "#   de NaN a l'inici i final. A Stackoverflow diuen que és un bug. El paràmetre\n",
        "#   'usecols' permet descartar aquestes columnes (cols 0 i 12)\n",
        "# - la data i hora la parsejarem posteriorment\n",
        "\n",
        "df = pd.read_csv(fname,\n",
        "              delimiter=pattern,\n",
        "              engine='python',\n",
        "              header=None,\n",
        "              index_col=False,\n",
        "              na_values=\"-\",\n",
        "              usecols = [*range(1, 12)],\n",
        "              names=['ServerName', 'IP', 'Identity', 'UserID','DateTime',\n",
        "                     'Request','Status','Size', 'Referer', 'UserAgent','VLOG' ],\n",
        "              )\n",
        "\n",
        "# Els atributs / variables són:\n",
        "# - ServerName: name of the server being accessed\n",
        "# - IP: IP of the client (Remote Host) sending the request\n",
        "# - Identity: Identity of the client according to RFC 1413\n",
        "# - UserID: userid of the person requesting the resource\n",
        "# - DateTime: date and time of the request\n",
        "# - Request: request type and resource being requested\n",
        "# - Status: HTTP response status code\n",
        "# - Size: size of the object returned to the client\n",
        "# - Referer: HTTP referer, which represents the address from which the request for\n",
        "#   the resource originated\n",
        "# - UserAgent: User Agent, which identifies information about the browser that the\n",
        "#   client is using to access the resource.\n",
        "# - VLOG: N/A"
      ],
      "execution_count": 3,
      "outputs": []
    },
    {
      "cell_type": "code",
      "metadata": {
        "colab": {
          "base_uri": "https://localhost:8080/",
          "height": 428
        },
        "id": "fKEx_9IiOxoy",
        "outputId": "9f607f2c-68ea-4596-f2a3-28b780ac1bb0"
      },
      "source": [
        "# Revisem algunes files aleatòries per comprovar visualment\n",
        "# que s'hagi importat correctament\n",
        "\n",
        "df.sample(5)"
      ],
      "execution_count": 4,
      "outputs": [
        {
          "output_type": "execute_result",
          "data": {
            "text/html": [
              "<div>\n",
              "<style scoped>\n",
              "    .dataframe tbody tr th:only-of-type {\n",
              "        vertical-align: middle;\n",
              "    }\n",
              "\n",
              "    .dataframe tbody tr th {\n",
              "        vertical-align: top;\n",
              "    }\n",
              "\n",
              "    .dataframe thead th {\n",
              "        text-align: right;\n",
              "    }\n",
              "</style>\n",
              "<table border=\"1\" class=\"dataframe\">\n",
              "  <thead>\n",
              "    <tr style=\"text-align: right;\">\n",
              "      <th></th>\n",
              "      <th>ServerName</th>\n",
              "      <th>IP</th>\n",
              "      <th>Identity</th>\n",
              "      <th>UserID</th>\n",
              "      <th>DateTime</th>\n",
              "      <th>Request</th>\n",
              "      <th>Status</th>\n",
              "      <th>Size</th>\n",
              "      <th>Referer</th>\n",
              "      <th>UserAgent</th>\n",
              "      <th>VLOG</th>\n",
              "    </tr>\n",
              "  </thead>\n",
              "  <tbody>\n",
              "    <tr>\n",
              "      <th>163445</th>\n",
              "      <td>www.akumenius.com</td>\n",
              "      <td>82.199.56.241</td>\n",
              "      <td>NaN</td>\n",
              "      <td>NaN</td>\n",
              "      <td>26/Feb/2014:13:58:59 +0100</td>\n",
              "      <td>GET /modules/raton/views/themes/bcoos/images/b...</td>\n",
              "      <td>200</td>\n",
              "      <td>338.0</td>\n",
              "      <td>http://www.akumenius.com/destinos-caracteristi...</td>\n",
              "      <td>Mozilla/5.0 (Windows NT 6.1; WOW64) AppleWebKi...</td>\n",
              "      <td>NaN</td>\n",
              "    </tr>\n",
              "    <tr>\n",
              "      <th>183741</th>\n",
              "      <td>www.akumenius.com</td>\n",
              "      <td>79.168.72.6</td>\n",
              "      <td>NaN</td>\n",
              "      <td>NaN</td>\n",
              "      <td>27/Feb/2014:02:29:52 +0100</td>\n",
              "      <td>GET /includes/images/uploaded/Slideshow/FORMUL...</td>\n",
              "      <td>200</td>\n",
              "      <td>38716.0</td>\n",
              "      <td>http://www.akumenius.com/</td>\n",
              "      <td>Mozilla/5.0 (Windows NT 5.1; rv:27.0) Gecko/20...</td>\n",
              "      <td>NaN</td>\n",
              "    </tr>\n",
              "    <tr>\n",
              "      <th>198051</th>\n",
              "      <td>www.akumenius.com</td>\n",
              "      <td>90.165.7.176</td>\n",
              "      <td>NaN</td>\n",
              "      <td>NaN</td>\n",
              "      <td>27/Feb/2014:14:50:10 +0100</td>\n",
              "      <td>GET /libraries/anythingSlider/anythingSlider.c...</td>\n",
              "      <td>200</td>\n",
              "      <td>3233.0</td>\n",
              "      <td>http://www.akumenius.com/</td>\n",
              "      <td>Mozilla/5.0 (Windows NT 5.1) AppleWebKit/537.3...</td>\n",
              "      <td>NaN</td>\n",
              "    </tr>\n",
              "    <tr>\n",
              "      <th>248703</th>\n",
              "      <td>www.akumenius.com</td>\n",
              "      <td>31.4.193.40</td>\n",
              "      <td>NaN</td>\n",
              "      <td>NaN</td>\n",
              "      <td>01/Mar/2014:11:47:49 +0100</td>\n",
              "      <td>GET //modules/raton/views/themes/bcoos/images/...</td>\n",
              "      <td>200</td>\n",
              "      <td>3208.0</td>\n",
              "      <td>http://www.akumenius.com/escapadas/escapada-go...</td>\n",
              "      <td>Mozilla/5.0 (iPhone; CPU iPhone OS 7_0_4 like ...</td>\n",
              "      <td>NaN</td>\n",
              "    </tr>\n",
              "    <tr>\n",
              "      <th>217195</th>\n",
              "      <td>www.akumenius.com</td>\n",
              "      <td>217.125.71.222</td>\n",
              "      <td>NaN</td>\n",
              "      <td>NaN</td>\n",
              "      <td>27/Feb/2014:19:25:45 +0100</td>\n",
              "      <td>GET /hotel-list HTTP/1.1</td>\n",
              "      <td>200</td>\n",
              "      <td>9987.0</td>\n",
              "      <td>http://www.akumenius.com/hotel-list</td>\n",
              "      <td>Mozilla/5.0 (Windows NT 6.0; WOW64; rv:27.0) G...</td>\n",
              "      <td>NaN</td>\n",
              "    </tr>\n",
              "  </tbody>\n",
              "</table>\n",
              "</div>"
            ],
            "text/plain": [
              "               ServerName  ... VLOG\n",
              "163445  www.akumenius.com  ...  NaN\n",
              "183741  www.akumenius.com  ...  NaN\n",
              "198051  www.akumenius.com  ...  NaN\n",
              "248703  www.akumenius.com  ...  NaN\n",
              "217195  www.akumenius.com  ...  NaN\n",
              "\n",
              "[5 rows x 11 columns]"
            ]
          },
          "metadata": {
            "tags": []
          },
          "execution_count": 4
        }
      ]
    },
    {
      "cell_type": "markdown",
      "metadata": {
        "id": "iUhW7lA0Ym3B"
      },
      "source": [
        "## Nivell 2"
      ]
    },
    {
      "cell_type": "markdown",
      "metadata": {
        "id": "leWVAlKeYmxa"
      },
      "source": [
        "### Exercici 2\n",
        "Neteja, preprocesa, estructura i transforma (dataframe) les dades del registre d'Accés a la web."
      ]
    },
    {
      "cell_type": "code",
      "metadata": {
        "colab": {
          "base_uri": "https://localhost:8080/"
        },
        "id": "Uv87eYcADbht",
        "outputId": "69e40a7a-a024-47d6-d933-e0441f904124"
      },
      "source": [
        "# Revisem els tipus de cada variable\n",
        "df.info()"
      ],
      "execution_count": 5,
      "outputs": [
        {
          "output_type": "stream",
          "text": [
            "<class 'pandas.core.frame.DataFrame'>\n",
            "RangeIndex: 261873 entries, 0 to 261872\n",
            "Data columns (total 11 columns):\n",
            " #   Column      Non-Null Count   Dtype  \n",
            "---  ------      --------------   -----  \n",
            " 0   ServerName  261873 non-null  object \n",
            " 1   IP          261873 non-null  object \n",
            " 2   Identity    0 non-null       float64\n",
            " 3   UserID      27 non-null      object \n",
            " 4   DateTime    261873 non-null  object \n",
            " 5   Request     261836 non-null  object \n",
            " 6   Status      261873 non-null  int64  \n",
            " 7   Size        219538 non-null  float64\n",
            " 8   Referer     162326 non-null  object \n",
            " 9   UserAgent   261654 non-null  object \n",
            " 10  VLOG        0 non-null       float64\n",
            "dtypes: float64(3), int64(1), object(7)\n",
            "memory usage: 22.0+ MB\n"
          ],
          "name": "stdout"
        }
      ]
    },
    {
      "cell_type": "markdown",
      "metadata": {
        "id": "XulK6uNRak7j"
      },
      "source": [
        "La majoria de camps ja els hem processat durant la importació del fitxer, a l'excepció de la columna DateTime"
      ]
    },
    {
      "cell_type": "code",
      "metadata": {
        "id": "lDpLEhZuQcOA"
      },
      "source": [
        "# Per convertir la data i hora a datetime, primer hem de fer\n",
        "# una petita modificació per a que el parser de Pandas entengui correctament la\n",
        "# data i hora: substitium el primer ':' per un espai\n",
        "# e.g.: 01/Mar/2014:14:00:16 +0100 --> 01/Mar/2014 14:00:16 +0100\n",
        "# I llavors usem la funció pd.to_datetime() per parsejar el string\n",
        "\n",
        "df.DateTime = pd.to_datetime(df.DateTime.str.replace(':',' ',1))\n"
      ],
      "execution_count": 6,
      "outputs": []
    },
    {
      "cell_type": "code",
      "metadata": {
        "colab": {
          "base_uri": "https://localhost:8080/",
          "height": 428
        },
        "id": "42tZSSHYQHgF",
        "outputId": "49ec9029-9378-4066-a4b9-7a6462f3387f"
      },
      "source": [
        "# Revisem algunes files aleatòries per comprovar visualment\n",
        "df.sample(5)"
      ],
      "execution_count": 7,
      "outputs": [
        {
          "output_type": "execute_result",
          "data": {
            "text/html": [
              "<div>\n",
              "<style scoped>\n",
              "    .dataframe tbody tr th:only-of-type {\n",
              "        vertical-align: middle;\n",
              "    }\n",
              "\n",
              "    .dataframe tbody tr th {\n",
              "        vertical-align: top;\n",
              "    }\n",
              "\n",
              "    .dataframe thead th {\n",
              "        text-align: right;\n",
              "    }\n",
              "</style>\n",
              "<table border=\"1\" class=\"dataframe\">\n",
              "  <thead>\n",
              "    <tr style=\"text-align: right;\">\n",
              "      <th></th>\n",
              "      <th>ServerName</th>\n",
              "      <th>IP</th>\n",
              "      <th>Identity</th>\n",
              "      <th>UserID</th>\n",
              "      <th>DateTime</th>\n",
              "      <th>Request</th>\n",
              "      <th>Status</th>\n",
              "      <th>Size</th>\n",
              "      <th>Referer</th>\n",
              "      <th>UserAgent</th>\n",
              "      <th>VLOG</th>\n",
              "    </tr>\n",
              "  </thead>\n",
              "  <tbody>\n",
              "    <tr>\n",
              "      <th>175382</th>\n",
              "      <td>www.akumenius.com</td>\n",
              "      <td>83.213.232.246</td>\n",
              "      <td>NaN</td>\n",
              "      <td>NaN</td>\n",
              "      <td>2014-02-26 20:14:54+01:00</td>\n",
              "      <td>GET /modules/raton/views/themes/bcoos/css/butt...</td>\n",
              "      <td>200</td>\n",
              "      <td>50.0</td>\n",
              "      <td>http://www.akumenius.com/booking/4582/b/1/1?i=...</td>\n",
              "      <td>Mozilla/5.0 (Linux; U; Android 4.2.2; es-es; G...</td>\n",
              "      <td>NaN</td>\n",
              "    </tr>\n",
              "    <tr>\n",
              "      <th>146745</th>\n",
              "      <td>www.akumenius.com</td>\n",
              "      <td>66.249.76.216</td>\n",
              "      <td>NaN</td>\n",
              "      <td>NaN</td>\n",
              "      <td>2014-02-26 00:40:21+01:00</td>\n",
              "      <td>GET /destinosCaracteristicas/hoteles-baratos-e...</td>\n",
              "      <td>200</td>\n",
              "      <td>9362.0</td>\n",
              "      <td>NaN</td>\n",
              "      <td>Mozilla/5.0 (compatible; Googlebot/2.1; +http:...</td>\n",
              "      <td>NaN</td>\n",
              "    </tr>\n",
              "    <tr>\n",
              "      <th>236307</th>\n",
              "      <td>www.akumenius.com</td>\n",
              "      <td>89.29.152.238</td>\n",
              "      <td>NaN</td>\n",
              "      <td>NaN</td>\n",
              "      <td>2014-02-28 16:06:20+01:00</td>\n",
              "      <td>GET /modules/raton/views/themes/bcoos/images/b...</td>\n",
              "      <td>200</td>\n",
              "      <td>329.0</td>\n",
              "      <td>http://www.akumenius.com/</td>\n",
              "      <td>Mozilla/5.0 (Windows NT 6.1) AppleWebKit/537.3...</td>\n",
              "      <td>NaN</td>\n",
              "    </tr>\n",
              "    <tr>\n",
              "      <th>202012</th>\n",
              "      <td>test.akumenius.com</td>\n",
              "      <td>80.28.221.123</td>\n",
              "      <td>NaN</td>\n",
              "      <td>NaN</td>\n",
              "      <td>2014-02-27 15:32:04+01:00</td>\n",
              "      <td>GET /newdesign/libraries/anythingSlider/images...</td>\n",
              "      <td>304</td>\n",
              "      <td>NaN</td>\n",
              "      <td>http://test.akumenius.com/newdesign/</td>\n",
              "      <td>Mozilla/5.0 (X11; U; Linux i686; ca; rv:1.9.2....</td>\n",
              "      <td>NaN</td>\n",
              "    </tr>\n",
              "    <tr>\n",
              "      <th>74987</th>\n",
              "      <td>www.akumenius.com</td>\n",
              "      <td>87.218.156.183</td>\n",
              "      <td>NaN</td>\n",
              "      <td>NaN</td>\n",
              "      <td>2014-02-24 16:11:53+01:00</td>\n",
              "      <td>GET /hotel-list HTTP/1.1</td>\n",
              "      <td>200</td>\n",
              "      <td>9633.0</td>\n",
              "      <td>http://www.akumenius.com/hotel-list</td>\n",
              "      <td>Mozilla/5.0 (Windows NT 6.1; WOW64; rv:27.0) G...</td>\n",
              "      <td>NaN</td>\n",
              "    </tr>\n",
              "  </tbody>\n",
              "</table>\n",
              "</div>"
            ],
            "text/plain": [
              "                ServerName  ... VLOG\n",
              "175382   www.akumenius.com  ...  NaN\n",
              "146745   www.akumenius.com  ...  NaN\n",
              "236307   www.akumenius.com  ...  NaN\n",
              "202012  test.akumenius.com  ...  NaN\n",
              "74987    www.akumenius.com  ...  NaN\n",
              "\n",
              "[5 rows x 11 columns]"
            ]
          },
          "metadata": {
            "tags": []
          },
          "execution_count": 7
        }
      ]
    },
    {
      "cell_type": "code",
      "metadata": {
        "colab": {
          "base_uri": "https://localhost:8080/"
        },
        "id": "JpdRHYmOXDPf",
        "outputId": "3edfde62-9207-4b5e-cf8f-d3669d12a4bc"
      },
      "source": [
        "# Revisem les variables i tipus\n",
        "df.info()"
      ],
      "execution_count": 8,
      "outputs": [
        {
          "output_type": "stream",
          "text": [
            "<class 'pandas.core.frame.DataFrame'>\n",
            "RangeIndex: 261873 entries, 0 to 261872\n",
            "Data columns (total 11 columns):\n",
            " #   Column      Non-Null Count   Dtype                               \n",
            "---  ------      --------------   -----                               \n",
            " 0   ServerName  261873 non-null  object                              \n",
            " 1   IP          261873 non-null  object                              \n",
            " 2   Identity    0 non-null       float64                             \n",
            " 3   UserID      27 non-null      object                              \n",
            " 4   DateTime    261873 non-null  datetime64[ns, pytz.FixedOffset(60)]\n",
            " 5   Request     261836 non-null  object                              \n",
            " 6   Status      261873 non-null  int64                               \n",
            " 7   Size        219538 non-null  float64                             \n",
            " 8   Referer     162326 non-null  object                              \n",
            " 9   UserAgent   261654 non-null  object                              \n",
            " 10  VLOG        0 non-null       float64                             \n",
            "dtypes: datetime64[ns, pytz.FixedOffset(60)](1), float64(3), int64(1), object(6)\n",
            "memory usage: 22.0+ MB\n"
          ],
          "name": "stdout"
        }
      ]
    },
    {
      "cell_type": "markdown",
      "metadata": {
        "id": "XD1mmR27Y3cR"
      },
      "source": [
        "#### Comentaris / Verificacions\n",
        "\n",
        "- Tots els valors de Identity i de VLOG son NaN. Però no els eliminem per mantenir la compatibilitat del format de columneamb possibles futures dades."
      ]
    },
    {
      "cell_type": "markdown",
      "metadata": {
        "id": "1A8y8uaGZbB3"
      },
      "source": [
        "- Quasi tots els valors de UserID són NaN excepte 27,i tots tenen el mateix valor: 'clarcat'"
      ]
    },
    {
      "cell_type": "code",
      "metadata": {
        "colab": {
          "base_uri": "https://localhost:8080/"
        },
        "id": "IAr0UDzNXvoL",
        "outputId": "81f70d50-5c99-4047-e7dd-d8fb0c8d8a12"
      },
      "source": [
        "df.UserID.unique()"
      ],
      "execution_count": 9,
      "outputs": [
        {
          "output_type": "execute_result",
          "data": {
            "text/plain": [
              "array([nan, 'clarcat'], dtype=object)"
            ]
          },
          "metadata": {
            "tags": []
          },
          "execution_count": 9
        }
      ]
    },
    {
      "cell_type": "markdown",
      "metadata": {
        "id": "sG2M5NCmZm3T"
      },
      "source": [
        "- Els Requests poden ser de 3 tipus: GET, POST o OPTION. Podem afegir una columna categòrica que indiqui el tipus."
      ]
    },
    {
      "cell_type": "code",
      "metadata": {
        "id": "A-2Vjzb0chlD"
      },
      "source": [
        "df['RequestType'] = df.Request.str.extract(r'^(GET|POST|OPTION)')\n",
        "df['RequestType'] = df['RequestType'].astype('category')"
      ],
      "execution_count": 10,
      "outputs": []
    },
    {
      "cell_type": "code",
      "metadata": {
        "id": "nhNmAT3Kdjum"
      },
      "source": [
        "# Reordenem les columnes\n",
        "df = df[['ServerName', 'IP', 'Identity', 'UserID', 'DateTime', 'RequestType',\n",
        "              'Request', 'Status', 'Size', 'Referer', 'UserAgent', 'VLOG']]"
      ],
      "execution_count": 11,
      "outputs": []
    },
    {
      "cell_type": "code",
      "metadata": {
        "colab": {
          "base_uri": "https://localhost:8080/",
          "height": 411
        },
        "id": "i5RL4LXhesav",
        "outputId": "02a971d0-0879-4351-c625-e0693d8c1f7f"
      },
      "source": [
        "df.sample(5)"
      ],
      "execution_count": 12,
      "outputs": [
        {
          "output_type": "execute_result",
          "data": {
            "text/html": [
              "<div>\n",
              "<style scoped>\n",
              "    .dataframe tbody tr th:only-of-type {\n",
              "        vertical-align: middle;\n",
              "    }\n",
              "\n",
              "    .dataframe tbody tr th {\n",
              "        vertical-align: top;\n",
              "    }\n",
              "\n",
              "    .dataframe thead th {\n",
              "        text-align: right;\n",
              "    }\n",
              "</style>\n",
              "<table border=\"1\" class=\"dataframe\">\n",
              "  <thead>\n",
              "    <tr style=\"text-align: right;\">\n",
              "      <th></th>\n",
              "      <th>ServerName</th>\n",
              "      <th>IP</th>\n",
              "      <th>Identity</th>\n",
              "      <th>UserID</th>\n",
              "      <th>DateTime</th>\n",
              "      <th>RequestType</th>\n",
              "      <th>Request</th>\n",
              "      <th>Status</th>\n",
              "      <th>Size</th>\n",
              "      <th>Referer</th>\n",
              "      <th>UserAgent</th>\n",
              "      <th>VLOG</th>\n",
              "    </tr>\n",
              "  </thead>\n",
              "  <tbody>\n",
              "    <tr>\n",
              "      <th>127666</th>\n",
              "      <td>www.akumenius.com</td>\n",
              "      <td>92.58.33.198</td>\n",
              "      <td>NaN</td>\n",
              "      <td>NaN</td>\n",
              "      <td>2014-02-25 18:03:04+01:00</td>\n",
              "      <td>GET</td>\n",
              "      <td>GET /modules/raton/views/themes/bcoos/images/b...</td>\n",
              "      <td>200</td>\n",
              "      <td>7452.0</td>\n",
              "      <td>http://www.akumenius.com/?gclid=CITb9_vg57wCFd...</td>\n",
              "      <td>Mozilla/5.0 (Windows NT 6.1) AppleWebKit/537.3...</td>\n",
              "      <td>NaN</td>\n",
              "    </tr>\n",
              "    <tr>\n",
              "      <th>91111</th>\n",
              "      <td>www.akumenius.com</td>\n",
              "      <td>5.10.83.86</td>\n",
              "      <td>NaN</td>\n",
              "      <td>NaN</td>\n",
              "      <td>2014-02-25 01:50:38+01:00</td>\n",
              "      <td>GET</td>\n",
              "      <td>GET /destinos-baratos/hoteles-baratos/ofertas-...</td>\n",
              "      <td>404</td>\n",
              "      <td>3100.0</td>\n",
              "      <td>NaN</td>\n",
              "      <td>Mozilla/5.0 (compatible; AhrefsBot/5.0; +http:...</td>\n",
              "      <td>NaN</td>\n",
              "    </tr>\n",
              "    <tr>\n",
              "      <th>138255</th>\n",
              "      <td>www.akumenius.com</td>\n",
              "      <td>88.18.171.82</td>\n",
              "      <td>NaN</td>\n",
              "      <td>NaN</td>\n",
              "      <td>2014-02-25 21:00:27+01:00</td>\n",
              "      <td>POST</td>\n",
              "      <td>POST /destinos-get HTTP/1.1</td>\n",
              "      <td>200</td>\n",
              "      <td>271.0</td>\n",
              "      <td>http://www.akumenius.com/</td>\n",
              "      <td>Mozilla/5.0 (Windows NT 6.0) AppleWebKit/537.3...</td>\n",
              "      <td>NaN</td>\n",
              "    </tr>\n",
              "    <tr>\n",
              "      <th>195882</th>\n",
              "      <td>www.akumenius.com</td>\n",
              "      <td>213.143.50.159</td>\n",
              "      <td>NaN</td>\n",
              "      <td>NaN</td>\n",
              "      <td>2014-02-27 13:09:47+01:00</td>\n",
              "      <td>POST</td>\n",
              "      <td>POST /destinos-get HTTP/1.1</td>\n",
              "      <td>200</td>\n",
              "      <td>26.0</td>\n",
              "      <td>http://www.akumenius.com/hotel-list</td>\n",
              "      <td>Mozilla/5.0 (Linux; U; Android 4.1.2; es-es; L...</td>\n",
              "      <td>NaN</td>\n",
              "    </tr>\n",
              "    <tr>\n",
              "      <th>138458</th>\n",
              "      <td>www.akumenius.com</td>\n",
              "      <td>84.122.134.198</td>\n",
              "      <td>NaN</td>\n",
              "      <td>NaN</td>\n",
              "      <td>2014-02-25 21:07:41+01:00</td>\n",
              "      <td>GET</td>\n",
              "      <td>GET /libraries/anythingSlider/images/7r.png HT...</td>\n",
              "      <td>200</td>\n",
              "      <td>2441.0</td>\n",
              "      <td>http://www.akumenius.com/</td>\n",
              "      <td>Mozilla/5.0 (compatible; MSIE 10.0; Windows NT...</td>\n",
              "      <td>NaN</td>\n",
              "    </tr>\n",
              "  </tbody>\n",
              "</table>\n",
              "</div>"
            ],
            "text/plain": [
              "               ServerName  ... VLOG\n",
              "127666  www.akumenius.com  ...  NaN\n",
              "91111   www.akumenius.com  ...  NaN\n",
              "138255  www.akumenius.com  ...  NaN\n",
              "195882  www.akumenius.com  ...  NaN\n",
              "138458  www.akumenius.com  ...  NaN\n",
              "\n",
              "[5 rows x 12 columns]"
            ]
          },
          "metadata": {
            "tags": []
          },
          "execution_count": 12
        }
      ]
    },
    {
      "cell_type": "code",
      "metadata": {
        "id": "y08gXCFsDVxr"
      },
      "source": [
        "# Guardem el dataset net en un fitxer CSV\n",
        "df.to_csv('/content/drive/MyDrive/ITAcademy/Tasca7/RegistreLogs.csv')"
      ],
      "execution_count": 13,
      "outputs": []
    },
    {
      "cell_type": "markdown",
      "metadata": {
        "id": "vEmYhMllYmuo"
      },
      "source": [
        "### Exercici 3\n",
        "Geolocalitza les IP's. Aquí tens una pàgina d'interès :IP2Location: https://blog.ip2location.com/knowledge-base/how-to-add-a-sub-account-in-ip2location/"
      ]
    },
    {
      "cell_type": "code",
      "metadata": {
        "colab": {
          "base_uri": "https://localhost:8080/"
        },
        "id": "PTaSzFcPgKHj",
        "outputId": "6dac2a2f-13ba-4143-b564-ea5f87d65d3c"
      },
      "source": [
        "# Instal·lem el mòdul IP2Location\n",
        "!pip install IP2Location"
      ],
      "execution_count": 14,
      "outputs": [
        {
          "output_type": "stream",
          "text": [
            "Collecting IP2Location\n",
            "  Downloading https://files.pythonhosted.org/packages/87/00/4da6e42e05b3f219c0cf8efd995d88881a109b030dc70dfd45a0383e27fe/IP2Location-8.5.1-py3-none-any.whl\n",
            "Installing collected packages: IP2Location\n",
            "Successfully installed IP2Location-8.5.1\n"
          ],
          "name": "stdout"
        }
      ]
    },
    {
      "cell_type": "code",
      "metadata": {
        "colab": {
          "base_uri": "https://localhost:8080/"
        },
        "id": "5ggsRCaxdbcf",
        "outputId": "0ab0eded-a180-4bb7-c503-6a5bbb65d65a"
      },
      "source": [
        "# Descarreguèm i descomprimim la BBDD de IP2Location\n",
        "DOWNLOAD_TOKEN = 'OhxXA9iBXWHQ6tFDntnnBR04B4yATWLsCVF2AZeSlxqaDThfoEifwRmYEzrKfPWZ'\n",
        "DATABASE_CODE = 'DB11LITEBIN'\n",
        "URL = f'https://www.ip2location.com/download/?token={DOWNLOAD_TOKEN}\\&file={DATABASE_CODE}'\n",
        "FNAME = DATABASE_CODE +'.ZIP'\n",
        "\n",
        "!wget $URL --output-document=$FNAME\n",
        "!unzip $FNAME"
      ],
      "execution_count": 15,
      "outputs": [
        {
          "output_type": "stream",
          "text": [
            "--2021-05-10 07:47:29--  https://www.ip2location.com/download/?token=OhxXA9iBXWHQ6tFDntnnBR04B4yATWLsCVF2AZeSlxqaDThfoEifwRmYEzrKfPWZ&file=DB11LITEBIN\n",
            "Resolving www.ip2location.com (www.ip2location.com)... 34.224.172.222, 2600:1f18:45b0:5b00:f5d8:4183:7710:ceec\n",
            "Connecting to www.ip2location.com (www.ip2location.com)|34.224.172.222|:443... connected.\n",
            "HTTP request sent, awaiting response... 200 OK\n",
            "Length: 20684261 (20M) [application/zip]\n",
            "Saving to: ‘DB11LITEBIN.ZIP’\n",
            "\n",
            "DB11LITEBIN.ZIP     100%[===================>]  19.73M  58.4MB/s    in 0.3s    \n",
            "\n",
            "2021-05-10 07:47:30 (58.4 MB/s) - ‘DB11LITEBIN.ZIP’ saved [20684261/20684261]\n",
            "\n",
            "Archive:  DB11LITEBIN.ZIP\n",
            "  inflating: LICENSE_LITE.TXT        \n",
            "  inflating: README_LITE.TXT         \n",
            "  inflating: IP2LOCATION-LITE-DB11.BIN  \n"
          ],
          "name": "stdout"
        }
      ]
    },
    {
      "cell_type": "code",
      "metadata": {
        "id": "qMluHg3pff4O"
      },
      "source": [
        "# Busquem a la BBDD de IP2Location la geolocalització de cada IP\n",
        "\n",
        "import IP2Location\n",
        " \n",
        "IP2LocObj = IP2Location.IP2Location()\n",
        "IP2LocObj.open(\"IP2LOCATION-LITE-DB11.BIN\")\n",
        "\n",
        "df['Latitude'] = df.IP.map(IP2LocObj.get_latitude)\n",
        "df['Longitude'] = df.IP.map(IP2LocObj.get_longitude)\n",
        "df['CountryLong'] = df.IP.map(IP2LocObj.get_country_long)\n",
        "df['CountryShort'] = df.IP.map(IP2LocObj.get_country_short)\n",
        "df['Region'] = df.IP.map(IP2LocObj.get_region)\n",
        "df['City'] = df.IP.map(IP2LocObj.get_city)\n"
      ],
      "execution_count": 16,
      "outputs": []
    },
    {
      "cell_type": "code",
      "metadata": {
        "id": "MLs5gFAFlzBR"
      },
      "source": [
        "# Per als accessos locals, no hi ha geolocalització i per tant indica 0.0 per a Latitude\n",
        "# i Longitude, i '-' per a la resta de camps.\n",
        "# Substituim aquests valors per NaN\n",
        "\n",
        "df[['Latitude','Longitude']] = df.loc[:,['Latitude','Longitude']].replace(0.0, np.nan)\n",
        "df[['CountryLong','CountryShort','Region','City']] = \\\n",
        "  df.loc[:,['CountryLong','CountryShort','Region','City']].replace('-', np.nan)\n"
      ],
      "execution_count": 17,
      "outputs": []
    },
    {
      "cell_type": "code",
      "metadata": {
        "colab": {
          "base_uri": "https://localhost:8080/",
          "height": 479
        },
        "id": "b_iXorQCke3z",
        "outputId": "cb7a425f-dd92-449c-d177-911476782d3b"
      },
      "source": [
        "# Revisem 5 files aleatòries\n",
        "\n",
        "df.sample(5)"
      ],
      "execution_count": 18,
      "outputs": [
        {
          "output_type": "execute_result",
          "data": {
            "text/html": [
              "<div>\n",
              "<style scoped>\n",
              "    .dataframe tbody tr th:only-of-type {\n",
              "        vertical-align: middle;\n",
              "    }\n",
              "\n",
              "    .dataframe tbody tr th {\n",
              "        vertical-align: top;\n",
              "    }\n",
              "\n",
              "    .dataframe thead th {\n",
              "        text-align: right;\n",
              "    }\n",
              "</style>\n",
              "<table border=\"1\" class=\"dataframe\">\n",
              "  <thead>\n",
              "    <tr style=\"text-align: right;\">\n",
              "      <th></th>\n",
              "      <th>ServerName</th>\n",
              "      <th>IP</th>\n",
              "      <th>Identity</th>\n",
              "      <th>UserID</th>\n",
              "      <th>DateTime</th>\n",
              "      <th>RequestType</th>\n",
              "      <th>Request</th>\n",
              "      <th>Status</th>\n",
              "      <th>Size</th>\n",
              "      <th>Referer</th>\n",
              "      <th>UserAgent</th>\n",
              "      <th>VLOG</th>\n",
              "      <th>Latitude</th>\n",
              "      <th>Longitude</th>\n",
              "      <th>CountryLong</th>\n",
              "      <th>CountryShort</th>\n",
              "      <th>Region</th>\n",
              "      <th>City</th>\n",
              "    </tr>\n",
              "  </thead>\n",
              "  <tbody>\n",
              "    <tr>\n",
              "      <th>144880</th>\n",
              "      <td>www.akumenius.com</td>\n",
              "      <td>66.249.76.216</td>\n",
              "      <td>NaN</td>\n",
              "      <td>NaN</td>\n",
              "      <td>2014-02-25 23:52:49+01:00</td>\n",
              "      <td>GET</td>\n",
              "      <td>GET /destinos-baratos/hoteles-en-IstriaCROACIA...</td>\n",
              "      <td>200</td>\n",
              "      <td>7198.0</td>\n",
              "      <td>NaN</td>\n",
              "      <td>Mozilla/5.0 (compatible; Googlebot/2.1; +http:...</td>\n",
              "      <td>NaN</td>\n",
              "      <td>37.405991</td>\n",
              "      <td>-122.078514</td>\n",
              "      <td>United States of America</td>\n",
              "      <td>US</td>\n",
              "      <td>California</td>\n",
              "      <td>Mountain View</td>\n",
              "    </tr>\n",
              "    <tr>\n",
              "      <th>12264</th>\n",
              "      <td>www.akumenius.com</td>\n",
              "      <td>88.23.17.66</td>\n",
              "      <td>NaN</td>\n",
              "      <td>NaN</td>\n",
              "      <td>2014-02-23 11:35:49+01:00</td>\n",
              "      <td>GET</td>\n",
              "      <td>GET /modules/raton/views/themes/bcoos/images/b...</td>\n",
              "      <td>200</td>\n",
              "      <td>881.0</td>\n",
              "      <td>http://www.akumenius.com/</td>\n",
              "      <td>Mozilla/5.0 (Windows NT 6.1; WOW64) AppleWebKi...</td>\n",
              "      <td>NaN</td>\n",
              "      <td>40.416500</td>\n",
              "      <td>-3.702560</td>\n",
              "      <td>Spain</td>\n",
              "      <td>ES</td>\n",
              "      <td>Madrid, Comunidad de</td>\n",
              "      <td>Madrid</td>\n",
              "    </tr>\n",
              "    <tr>\n",
              "      <th>151194</th>\n",
              "      <td>www.akumenius.com</td>\n",
              "      <td>66.249.76.216</td>\n",
              "      <td>NaN</td>\n",
              "      <td>NaN</td>\n",
              "      <td>2014-02-26 06:17:11+01:00</td>\n",
              "      <td>GET</td>\n",
              "      <td>GET /destinos-caracteristicas/hoteles-baratos-...</td>\n",
              "      <td>200</td>\n",
              "      <td>6392.0</td>\n",
              "      <td>NaN</td>\n",
              "      <td>Mozilla/5.0 (compatible; Googlebot/2.1; +http:...</td>\n",
              "      <td>NaN</td>\n",
              "      <td>37.405991</td>\n",
              "      <td>-122.078514</td>\n",
              "      <td>United States of America</td>\n",
              "      <td>US</td>\n",
              "      <td>California</td>\n",
              "      <td>Mountain View</td>\n",
              "    </tr>\n",
              "    <tr>\n",
              "      <th>237608</th>\n",
              "      <td>www.akumenius.com</td>\n",
              "      <td>66.249.64.98</td>\n",
              "      <td>NaN</td>\n",
              "      <td>NaN</td>\n",
              "      <td>2014-02-28 17:51:46+01:00</td>\n",
              "      <td>GET</td>\n",
              "      <td>GET /destinos-caracteristicas/hoteles-baratos-...</td>\n",
              "      <td>200</td>\n",
              "      <td>6412.0</td>\n",
              "      <td>NaN</td>\n",
              "      <td>Mozilla/5.0 (compatible; Googlebot/2.1; +http:...</td>\n",
              "      <td>NaN</td>\n",
              "      <td>37.405991</td>\n",
              "      <td>-122.078514</td>\n",
              "      <td>United States of America</td>\n",
              "      <td>US</td>\n",
              "      <td>California</td>\n",
              "      <td>Mountain View</td>\n",
              "    </tr>\n",
              "    <tr>\n",
              "      <th>96186</th>\n",
              "      <td>www.akumenius.com</td>\n",
              "      <td>66.249.76.216</td>\n",
              "      <td>NaN</td>\n",
              "      <td>NaN</td>\n",
              "      <td>2014-02-25 09:36:00+01:00</td>\n",
              "      <td>GET</td>\n",
              "      <td>GET /destinos-caracteristicas/hoteles-baratos-...</td>\n",
              "      <td>200</td>\n",
              "      <td>8337.0</td>\n",
              "      <td>NaN</td>\n",
              "      <td>Mozilla/5.0 (compatible; Googlebot/2.1; +http:...</td>\n",
              "      <td>NaN</td>\n",
              "      <td>37.405991</td>\n",
              "      <td>-122.078514</td>\n",
              "      <td>United States of America</td>\n",
              "      <td>US</td>\n",
              "      <td>California</td>\n",
              "      <td>Mountain View</td>\n",
              "    </tr>\n",
              "  </tbody>\n",
              "</table>\n",
              "</div>"
            ],
            "text/plain": [
              "               ServerName             IP  ...                Region           City\n",
              "144880  www.akumenius.com  66.249.76.216  ...            California  Mountain View\n",
              "12264   www.akumenius.com    88.23.17.66  ...  Madrid, Comunidad de         Madrid\n",
              "151194  www.akumenius.com  66.249.76.216  ...            California  Mountain View\n",
              "237608  www.akumenius.com   66.249.64.98  ...            California  Mountain View\n",
              "96186   www.akumenius.com  66.249.76.216  ...            California  Mountain View\n",
              "\n",
              "[5 rows x 18 columns]"
            ]
          },
          "metadata": {
            "tags": []
          },
          "execution_count": 18
        }
      ]
    },
    {
      "cell_type": "markdown",
      "metadata": {
        "id": "R-zCzqAuZTRq"
      },
      "source": [
        "## Nivell 3"
      ]
    },
    {
      "cell_type": "markdown",
      "metadata": {
        "id": "FQH5S4X6ZVFN"
      },
      "source": [
        "### Exercici 3\n",
        "Mostra'm la teva creativitat, Sorprèn-me fes un pas més enllà amb l'anàlisi anterior."
      ]
    },
    {
      "cell_type": "markdown",
      "metadata": {
        "id": "5STmaC74TFYn"
      },
      "source": [
        "Podem representar gràficament en un mapamundi le dades d'accés. Utilitzarem la llibrería GeoPandas."
      ]
    },
    {
      "cell_type": "code",
      "metadata": {
        "colab": {
          "base_uri": "https://localhost:8080/"
        },
        "id": "yyuNyoQ5rWfj",
        "outputId": "7241c461-e2d2-47df-a161-a2aad4fa0b8d"
      },
      "source": [
        "# Instal·lem GeoPandas a Google Colab\n",
        "!pip install geopandas"
      ],
      "execution_count": 19,
      "outputs": [
        {
          "output_type": "stream",
          "text": [
            "Collecting geopandas\n",
            "\u001b[?25l  Downloading https://files.pythonhosted.org/packages/d7/bf/e9cefb69d39155d122b6ddca53893b61535fa6ffdad70bf5ef708977f53f/geopandas-0.9.0-py2.py3-none-any.whl (994kB)\n",
            "\u001b[K     |████████████████████████████████| 1.0MB 15.4MB/s \n",
            "\u001b[?25hCollecting pyproj>=2.2.0\n",
            "\u001b[?25l  Downloading https://files.pythonhosted.org/packages/b1/72/d52e9ca81caef056062d71991b0e9b1d16af042245627c5d0e4916a36c4f/pyproj-3.0.1-cp37-cp37m-manylinux2010_x86_64.whl (6.5MB)\n",
            "\u001b[K     |████████████████████████████████| 6.5MB 36.3MB/s \n",
            "\u001b[?25hRequirement already satisfied: pandas>=0.24.0 in /usr/local/lib/python3.7/dist-packages (from geopandas) (1.1.5)\n",
            "Collecting fiona>=1.8\n",
            "\u001b[?25l  Downloading https://files.pythonhosted.org/packages/ea/2a/404b22883298a3efe9c6ef8d67acbf2c38443fa366ee9cd4cd34e17626ea/Fiona-1.8.19-cp37-cp37m-manylinux1_x86_64.whl (15.3MB)\n",
            "\u001b[K     |████████████████████████████████| 15.3MB 335kB/s \n",
            "\u001b[?25hRequirement already satisfied: shapely>=1.6 in /usr/local/lib/python3.7/dist-packages (from geopandas) (1.7.1)\n",
            "Requirement already satisfied: certifi in /usr/local/lib/python3.7/dist-packages (from pyproj>=2.2.0->geopandas) (2020.12.5)\n",
            "Requirement already satisfied: pytz>=2017.2 in /usr/local/lib/python3.7/dist-packages (from pandas>=0.24.0->geopandas) (2018.9)\n",
            "Requirement already satisfied: python-dateutil>=2.7.3 in /usr/local/lib/python3.7/dist-packages (from pandas>=0.24.0->geopandas) (2.8.1)\n",
            "Requirement already satisfied: numpy>=1.15.4 in /usr/local/lib/python3.7/dist-packages (from pandas>=0.24.0->geopandas) (1.19.5)\n",
            "Collecting cligj>=0.5\n",
            "  Downloading https://files.pythonhosted.org/packages/42/1e/947eadf10d6804bf276eb8a038bd5307996dceaaa41cfd21b7a15ec62f5d/cligj-0.7.1-py3-none-any.whl\n",
            "Collecting click-plugins>=1.0\n",
            "  Downloading https://files.pythonhosted.org/packages/e9/da/824b92d9942f4e472702488857914bdd50f73021efea15b4cad9aca8ecef/click_plugins-1.1.1-py2.py3-none-any.whl\n",
            "Collecting munch\n",
            "  Downloading https://files.pythonhosted.org/packages/cc/ab/85d8da5c9a45e072301beb37ad7f833cd344e04c817d97e0cc75681d248f/munch-2.5.0-py2.py3-none-any.whl\n",
            "Requirement already satisfied: attrs>=17 in /usr/local/lib/python3.7/dist-packages (from fiona>=1.8->geopandas) (20.3.0)\n",
            "Requirement already satisfied: six>=1.7 in /usr/local/lib/python3.7/dist-packages (from fiona>=1.8->geopandas) (1.15.0)\n",
            "Requirement already satisfied: click<8,>=4.0 in /usr/local/lib/python3.7/dist-packages (from fiona>=1.8->geopandas) (7.1.2)\n",
            "Installing collected packages: pyproj, cligj, click-plugins, munch, fiona, geopandas\n",
            "Successfully installed click-plugins-1.1.1 cligj-0.7.1 fiona-1.8.19 geopandas-0.9.0 munch-2.5.0 pyproj-3.0.1\n"
          ],
          "name": "stdout"
        }
      ]
    },
    {
      "cell_type": "code",
      "metadata": {
        "id": "vjpOWlrsrXjV"
      },
      "source": [
        "import geopandas as gpd\n",
        "import matplotlib.pyplot as plt\n",
        "import descartes\n",
        "from shapely.geometry import Point, Polygon \n",
        "%matplotlib inline"
      ],
      "execution_count": 20,
      "outputs": []
    },
    {
      "cell_type": "code",
      "metadata": {
        "colab": {
          "base_uri": "https://localhost:8080/",
          "height": 447
        },
        "id": "N773nZlmrdlr",
        "outputId": "8d6fd6e4-a521-46a4-9b41-69ba0db22038"
      },
      "source": [
        "# Representem en un mapa la longitud i latitud de cada accés amb un punt\n",
        "\n",
        "fig, ax = plt.subplots(figsize=(16,12))\n",
        "# Pintem el mapa\n",
        "world = gpd.read_file(gpd.datasets.get_path(\"naturalearth_lowres\"))\n",
        "world.plot(color=\"lightgrey\", ax=ax)\n",
        "\n",
        "# Pintem els punts\n",
        "df.plot(x=\"Longitude\", y=\"Latitude\", kind=\"scatter\", \n",
        "        c=\"red\", alpha=0.3, colormap=\"YlOrRd\", \n",
        "        ax=ax)\n",
        "\n",
        "# Afegim grid\n",
        "ax.grid(b=True, alpha=0.5)\n",
        "plt.show()"
      ],
      "execution_count": 21,
      "outputs": [
        {
          "output_type": "display_data",
          "data": {
            "image/png": "[encoded data removed]",
            "text/plain": [
              "<Figure size 1152x864 with 1 Axes>"
            ]
          },
          "metadata": {
            "tags": [],
            "needs_background": "light"
          }
        }
      ]
    },
    {
      "cell_type": "markdown",
      "metadata": {
        "id": "vIhYM510FloB"
      },
      "source": [
        "Veiem que la majoria d'accéssos provenen d'Espanya. Podem representar-ho a nivell de paisos:"
      ]
    },
    {
      "cell_type": "code",
      "metadata": {
        "colab": {
          "base_uri": "https://localhost:8080/"
        },
        "id": "ExBwms8GVRR6",
        "outputId": "8b4e6656-eeab-4d09-e695-a50ec8a80480"
      },
      "source": [
        "# IP2Location utilitza un codi de 2 lletres per identificar els paisos\n",
        "# Mentres que Geopandas utilitza un codi de 3 lletres\n",
        "# Utilitzem el mòdul iso3166 per trobar l'equivalència\n",
        "\n",
        "!pip install iso3166"
      ],
      "execution_count": 22,
      "outputs": [
        {
          "output_type": "stream",
          "text": [
            "Collecting iso3166\n",
            "  Downloading https://files.pythonhosted.org/packages/a0/42/15d2ef2211ddb26deb810a21b084ee6f3d1bc7248e884dcabb5edc04b649/iso3166-1.0.1-py2.py3-none-any.whl\n",
            "Installing collected packages: iso3166\n",
            "Successfully installed iso3166-1.0.1\n"
          ],
          "name": "stdout"
        }
      ]
    },
    {
      "cell_type": "code",
      "metadata": {
        "id": "52qxNEuPVzLD"
      },
      "source": [
        "from iso3166 import countries\n",
        "\n",
        "# Treballem sobre una copia del dataframe\n",
        "df2 = df.copy()\n",
        "\n",
        "# Afegim una columna 'iso_a3' amb el codi de país de 3 lletres\n",
        "# Per als casos d'accés local (NaN), deixem NaN\n",
        "df2['iso_a3'] = df2.CountryShort.map(lambda x: x if pd.isnull(x) else countries.get(x).alpha3)"
      ],
      "execution_count": 23,
      "outputs": []
    },
    {
      "cell_type": "code",
      "metadata": {
        "colab": {
          "base_uri": "https://localhost:8080/",
          "height": 204
        },
        "id": "FSVwTg-_SW1w",
        "outputId": "77b89efd-2d44-468d-9c10-cfc93456f443"
      },
      "source": [
        "# Veiem que hi ha alguns paísos que apareixen amb codi ISO_A3 '-99'\n",
        "# He buscat a Google i en alguns casos és perquè el país no està reconegut\n",
        "# com a tal (Somaliland, North Cyrpus) i en altres és un bug d'aquesta base de\n",
        "# dades (France, Norway, Kosovo). Corregeixo els codis manualment\n",
        "\n",
        "world[world.iso_a3 == '-99']"
      ],
      "execution_count": 24,
      "outputs": [
        {
          "output_type": "execute_result",
          "data": {
            "text/html": [
              "<div>\n",
              "<style scoped>\n",
              "    .dataframe tbody tr th:only-of-type {\n",
              "        vertical-align: middle;\n",
              "    }\n",
              "\n",
              "    .dataframe tbody tr th {\n",
              "        vertical-align: top;\n",
              "    }\n",
              "\n",
              "    .dataframe thead th {\n",
              "        text-align: right;\n",
              "    }\n",
              "</style>\n",
              "<table border=\"1\" class=\"dataframe\">\n",
              "  <thead>\n",
              "    <tr style=\"text-align: right;\">\n",
              "      <th></th>\n",
              "      <th>pop_est</th>\n",
              "      <th>continent</th>\n",
              "      <th>name</th>\n",
              "      <th>iso_a3</th>\n",
              "      <th>gdp_md_est</th>\n",
              "      <th>geometry</th>\n",
              "    </tr>\n",
              "  </thead>\n",
              "  <tbody>\n",
              "    <tr>\n",
              "      <th>21</th>\n",
              "      <td>5320045</td>\n",
              "      <td>Europe</td>\n",
              "      <td>Norway</td>\n",
              "      <td>-99</td>\n",
              "      <td>364700.0</td>\n",
              "      <td>MULTIPOLYGON (((15.14282 79.67431, 15.52255 80...</td>\n",
              "    </tr>\n",
              "    <tr>\n",
              "      <th>43</th>\n",
              "      <td>67106161</td>\n",
              "      <td>Europe</td>\n",
              "      <td>France</td>\n",
              "      <td>-99</td>\n",
              "      <td>2699000.0</td>\n",
              "      <td>MULTIPOLYGON (((-51.65780 4.15623, -52.24934 3...</td>\n",
              "    </tr>\n",
              "    <tr>\n",
              "      <th>160</th>\n",
              "      <td>265100</td>\n",
              "      <td>Asia</td>\n",
              "      <td>N. Cyprus</td>\n",
              "      <td>-99</td>\n",
              "      <td>3600.0</td>\n",
              "      <td>POLYGON ((32.73178 35.14003, 32.80247 35.14550...</td>\n",
              "    </tr>\n",
              "    <tr>\n",
              "      <th>167</th>\n",
              "      <td>3500000</td>\n",
              "      <td>Africa</td>\n",
              "      <td>Somaliland</td>\n",
              "      <td>-99</td>\n",
              "      <td>12250.0</td>\n",
              "      <td>POLYGON ((48.94820 11.41062, 48.94820 11.41062...</td>\n",
              "    </tr>\n",
              "    <tr>\n",
              "      <th>174</th>\n",
              "      <td>1895250</td>\n",
              "      <td>Europe</td>\n",
              "      <td>Kosovo</td>\n",
              "      <td>-99</td>\n",
              "      <td>18490.0</td>\n",
              "      <td>POLYGON ((20.59025 41.85541, 20.52295 42.21787...</td>\n",
              "    </tr>\n",
              "  </tbody>\n",
              "</table>\n",
              "</div>"
            ],
            "text/plain": [
              "      pop_est  ...                                           geometry\n",
              "21    5320045  ...  MULTIPOLYGON (((15.14282 79.67431, 15.52255 80...\n",
              "43   67106161  ...  MULTIPOLYGON (((-51.65780 4.15623, -52.24934 3...\n",
              "160    265100  ...  POLYGON ((32.73178 35.14003, 32.80247 35.14550...\n",
              "167   3500000  ...  POLYGON ((48.94820 11.41062, 48.94820 11.41062...\n",
              "174   1895250  ...  POLYGON ((20.59025 41.85541, 20.52295 42.21787...\n",
              "\n",
              "[5 rows x 6 columns]"
            ]
          },
          "metadata": {
            "tags": []
          },
          "execution_count": 24
        }
      ]
    },
    {
      "cell_type": "code",
      "metadata": {
        "id": "d3v0AIMIg7OR"
      },
      "source": [
        "# Corregim codis ISO_A3 de France, Norway, Kosovo\n",
        "world.loc[world.name == 'Norway', 'iso_a3'] = 'NOR'\n",
        "world.loc[world.name == 'France', 'iso_a3'] = 'FRA'\n",
        "world.loc[world.name == 'Kosovo', 'iso_a3'] = 'XXK'"
      ],
      "execution_count": 25,
      "outputs": []
    },
    {
      "cell_type": "code",
      "metadata": {
        "id": "rAC72AqDZznE"
      },
      "source": [
        "# Afegim al Geopandas DataFrame la info del nostre dataframe (nombre de accessos)\n",
        "# combinant la informació a partir del codi de pais ISO_A3\n",
        "world = pd.merge(world,  df2.groupby('iso_a3').count().IP, on='iso_a3', how=\"outer\")\n",
        "\n",
        "world.rename(columns={'IP':'numIPAccesses'}, inplace=True)\n",
        "\n",
        "# Substituïm els NaN per 0 en el nombre d'accessos\n",
        "world.numIPAccesses.fillna(0, inplace=True)"
      ],
      "execution_count": 26,
      "outputs": []
    },
    {
      "cell_type": "code",
      "metadata": {
        "colab": {
          "base_uri": "https://localhost:8080/",
          "height": 385
        },
        "id": "rKWdc09bH4rw",
        "outputId": "25a69c54-358b-46c1-824c-55ec7e5d9252"
      },
      "source": [
        "world.sample(7)"
      ],
      "execution_count": 27,
      "outputs": [
        {
          "output_type": "execute_result",
          "data": {
            "text/html": [
              "<div>\n",
              "<style scoped>\n",
              "    .dataframe tbody tr th:only-of-type {\n",
              "        vertical-align: middle;\n",
              "    }\n",
              "\n",
              "    .dataframe tbody tr th {\n",
              "        vertical-align: top;\n",
              "    }\n",
              "\n",
              "    .dataframe thead th {\n",
              "        text-align: right;\n",
              "    }\n",
              "</style>\n",
              "<table border=\"1\" class=\"dataframe\">\n",
              "  <thead>\n",
              "    <tr style=\"text-align: right;\">\n",
              "      <th></th>\n",
              "      <th>pop_est</th>\n",
              "      <th>continent</th>\n",
              "      <th>name</th>\n",
              "      <th>iso_a3</th>\n",
              "      <th>gdp_md_est</th>\n",
              "      <th>geometry</th>\n",
              "      <th>numIPAccesses</th>\n",
              "    </tr>\n",
              "  </thead>\n",
              "  <tbody>\n",
              "    <tr>\n",
              "      <th>40</th>\n",
              "      <td>31304016.0</td>\n",
              "      <td>South America</td>\n",
              "      <td>Venezuela</td>\n",
              "      <td>VEN</td>\n",
              "      <td>468600.0</td>\n",
              "      <td>POLYGON ((-60.73357 5.20028, -60.60118 4.91810...</td>\n",
              "      <td>134.0</td>\n",
              "    </tr>\n",
              "    <tr>\n",
              "      <th>108</th>\n",
              "      <td>18028549.0</td>\n",
              "      <td>Asia</td>\n",
              "      <td>Syria</td>\n",
              "      <td>SYR</td>\n",
              "      <td>50280.0</td>\n",
              "      <td>POLYGON ((35.71992 32.70919, 35.70080 32.71601...</td>\n",
              "      <td>0.0</td>\n",
              "    </tr>\n",
              "    <tr>\n",
              "      <th>157</th>\n",
              "      <td>28036829.0</td>\n",
              "      <td>Asia</td>\n",
              "      <td>Yemen</td>\n",
              "      <td>YEM</td>\n",
              "      <td>73450.0</td>\n",
              "      <td>POLYGON ((52.00001 19.00000, 52.78218 17.34974...</td>\n",
              "      <td>0.0</td>\n",
              "    </tr>\n",
              "    <tr>\n",
              "      <th>37</th>\n",
              "      <td>6172011.0</td>\n",
              "      <td>North America</td>\n",
              "      <td>El Salvador</td>\n",
              "      <td>SLV</td>\n",
              "      <td>54790.0</td>\n",
              "      <td>POLYGON ((-89.35333 14.42413, -89.05851 14.340...</td>\n",
              "      <td>0.0</td>\n",
              "    </tr>\n",
              "    <tr>\n",
              "      <th>163</th>\n",
              "      <td>33986655.0</td>\n",
              "      <td>Africa</td>\n",
              "      <td>Morocco</td>\n",
              "      <td>MAR</td>\n",
              "      <td>282800.0</td>\n",
              "      <td>POLYGON ((-2.16991 35.16840, -1.79299 34.52792...</td>\n",
              "      <td>0.0</td>\n",
              "    </tr>\n",
              "    <tr>\n",
              "      <th>43</th>\n",
              "      <td>67106161.0</td>\n",
              "      <td>Europe</td>\n",
              "      <td>France</td>\n",
              "      <td>FRA</td>\n",
              "      <td>2699000.0</td>\n",
              "      <td>MULTIPOLYGON (((-51.65780 4.15623, -52.24934 3...</td>\n",
              "      <td>1580.0</td>\n",
              "    </tr>\n",
              "    <tr>\n",
              "      <th>22</th>\n",
              "      <td>57713.0</td>\n",
              "      <td>North America</td>\n",
              "      <td>Greenland</td>\n",
              "      <td>GRL</td>\n",
              "      <td>2173.0</td>\n",
              "      <td>POLYGON ((-46.76379 82.62796, -43.40644 83.225...</td>\n",
              "      <td>0.0</td>\n",
              "    </tr>\n",
              "  </tbody>\n",
              "</table>\n",
              "</div>"
            ],
            "text/plain": [
              "        pop_est  ... numIPAccesses\n",
              "40   31304016.0  ...         134.0\n",
              "108  18028549.0  ...           0.0\n",
              "157  28036829.0  ...           0.0\n",
              "37    6172011.0  ...           0.0\n",
              "163  33986655.0  ...           0.0\n",
              "43   67106161.0  ...        1580.0\n",
              "22      57713.0  ...           0.0\n",
              "\n",
              "[7 rows x 7 columns]"
            ]
          },
          "metadata": {
            "tags": []
          },
          "execution_count": 27
        }
      ]
    },
    {
      "cell_type": "code",
      "metadata": {
        "colab": {
          "base_uri": "https://localhost:8080/",
          "height": 422
        },
        "id": "37Ha-SNaYHr_",
        "outputId": "1ce71efe-c487-4944-accf-485ea05c33c1"
      },
      "source": [
        "# Pintem cada país d'un color segons el nombre d'accessos a la web provinents\n",
        "# de cada país. Utilitzem una escala logarítmica\n",
        "\n",
        "from matplotlib import colors\n",
        "from mpl_toolkits.axes_grid1 import make_axes_locatable\n",
        "\n",
        "fig, ax = plt.subplots(figsize=(16,12))\n",
        "\n",
        "# Mapa del món\n",
        "world.plot(color=\"lightgrey\", ax=ax)\n",
        "\n",
        "# Barra amb la llegenda de colors\n",
        "divider = make_axes_locatable(ax)\n",
        "cax = divider.append_axes(\"right\", size=\"5%\", pad=0.1)\n",
        "\n",
        "# Accessos a la web\n",
        "world.plot(column='numIPAccesses', \n",
        "           legend=True, \n",
        "           ax=ax, \n",
        "           norm=colors.LogNorm(vmin=world.numIPAccesses.min()+1, \n",
        "                               vmax=world.numIPAccesses.max()),\n",
        "           cmap='OrRd',\n",
        "           cax=cax\n",
        "           );\n",
        "\n",
        "ax.grid(b=True, alpha=0.5)\n",
        "ax.set_title('Number of accesses to the akumenius.com website')\n",
        "\n",
        "plt.show()"
      ],
      "execution_count": 28,
      "outputs": [
        {
          "output_type": "display_data",
          "data": {
            "image/png": "[encoded data removed]",
            "text/plain": [
              "<Figure size 1152x864 with 2 Axes>"
            ]
          },
          "metadata": {
            "tags": [],
            "needs_background": "light"
          }
        }
      ]
    },
    {
      "cell_type": "code",
      "metadata": {
        "colab": {
          "base_uri": "https://localhost:8080/",
          "height": 650
        },
        "id": "h1Etdn69iMDg",
        "outputId": "e6225599-ff0e-45d8-8f3c-b8aa6c070e29"
      },
      "source": [
        "# Els 10 paísos amb més accessos a la web\n",
        "\n",
        "plt.subplots(figsize=(16,12))\n",
        "\n",
        "foo = world.sort_values('numIPAccesses', ascending=False)\n",
        "foo  = foo.iloc[0:10,:]\n",
        "plt.bar(foo.iso_a3, foo.numIPAccesses)\n",
        "plt.grid(b=True, alpha=0.5)\n",
        "\n",
        "plt.title('Number of IP accesses to the akumenius.com (TOP 10 countries)')\n",
        "plt.xlabel('Country code ISO-A3')\n",
        "plt.ylabel('Number of IP accesses')\n",
        "plt.show()"
      ],
      "execution_count": 29,
      "outputs": [
        {
          "output_type": "display_data",
          "data": {
            "image/png": "[encoded data removed]",
            "text/plain": [
              "<Figure size 1152x864 with 1 Axes>"
            ]
          },
          "metadata": {
            "tags": [],
            "needs_background": "light"
          }
        }
      ]
    }
  ]
}